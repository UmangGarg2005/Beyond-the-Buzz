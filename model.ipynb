{
 "cells": [
  {
   "cell_type": "code",
   "execution_count": 5,
   "metadata": {},
   "outputs": [
    {
     "ename": "TypeError",
     "evalue": "'tuple' object is not callable",
     "output_type": "error",
     "traceback": [
      "\u001b[1;31m---------------------------------------------------------------------------\u001b[0m",
      "\u001b[1;31mTypeError\u001b[0m                                 Traceback (most recent call last)",
      "Cell \u001b[1;32mIn[5], line 17\u001b[0m\n\u001b[0;32m     15\u001b[0m x_train\u001b[39m=\u001b[39mfit\u001b[39m.\u001b[39mtransform(x_train)\n\u001b[0;32m     16\u001b[0m x_val\u001b[39m=\u001b[39mFit\u001b[39m.\u001b[39mtransform(x_val)\n\u001b[1;32m---> 17\u001b[0m input_shape \u001b[39m=\u001b[39m [x_train\u001b[39m.\u001b[39;49mshape(\u001b[39m8\u001b[39;49m,)]\n\u001b[0;32m     18\u001b[0m model \u001b[39m=\u001b[39m tf\u001b[39m.\u001b[39mkeras\u001b[39m.\u001b[39mSequential([\n\u001b[0;32m     19\u001b[0m tf\u001b[39m.\u001b[39mkeras\u001b[39m.\u001b[39mlayers\u001b[39m.\u001b[39mDense(units\u001b[39m=\u001b[39m\u001b[39m1\u001b[39m,input_shape\u001b[39m=\u001b[39minput_shape)])\n\u001b[0;32m     20\u001b[0m model \u001b[39m=\u001b[39m tf\u001b[39m.\u001b[39mkeras\u001b[39m.\u001b[39mSequential([\n\u001b[0;32m     21\u001b[0m     tf\u001b[39m.\u001b[39mkeras\u001b[39m.\u001b[39mlayers\u001b[39m.\u001b[39mDense(units\u001b[39m=\u001b[39m\u001b[39m64\u001b[39m, activation\u001b[39m=\u001b[39m\u001b[39m'\u001b[39m\u001b[39mrelu\u001b[39m\u001b[39m'\u001b[39m,input_shape\u001b[39m=\u001b[39minput_shape),\n\u001b[0;32m     22\u001b[0m     tf\u001b[39m.\u001b[39mkeras\u001b[39m.\u001b[39mlayers\u001b[39m.\u001b[39mDense(units\u001b[39m=\u001b[39m\u001b[39m64\u001b[39m, activation\u001b[39m=\u001b[39m\u001b[39m'\u001b[39m\u001b[39mrelu\u001b[39m\u001b[39m'\u001b[39m),\n\u001b[0;32m     23\u001b[0m     tf\u001b[39m.\u001b[39mkeras\u001b[39m.\u001b[39mlayers\u001b[39m.\u001b[39mDense(units\u001b[39m=\u001b[39m\u001b[39m1\u001b[39m,activation\u001b[39m=\u001b[39m\u001b[39m'\u001b[39m\u001b[39msigmoid\u001b[39m\u001b[39m'\u001b[39m)\n\u001b[0;32m     24\u001b[0m ])\n",
      "\u001b[1;31mTypeError\u001b[0m: 'tuple' object is not callable"
     ]
    }
   ],
   "source": [
    "import pandas as pd\n",
    "import numpy as np\n",
    "import tensorflow as tf\n",
    "from sklearn.preprocessing import StandardScaler\n",
    "df = pd.read_csv('train.csv')\n",
    "train_df = df.sample(frac=0.75, random_state=0)\n",
    "val_df = df.drop(train_df.index)\n",
    "x_train = train_df.drop('VERDICT',axis=1)\n",
    "x_val = val_df.drop('VERDICT',axis=1)\n",
    "y_train = train_df['VERDICT']\n",
    "y_val = val_df['VERDICT']\n",
    "std=StandardScaler()\n",
    "fit=std.fit(x_train)\n",
    "Fit=std.fit(x_val)\n",
    "x_train=fit.transform(x_train)\n",
    "x_val=Fit.transform(x_val)\n",
    "input_shape = [x_train.shape[1]]\n",
    "model = tf.keras.Sequential([\n",
    "tf.keras.layers.Dense(units=1,input_shape=input_shape)])\n",
    "model = tf.keras.Sequential([\n",
    "    tf.keras.layers.Dense(units=64, activation='relu',input_shape=input_shape),\n",
    "    tf.keras.layers.Dense(units=64, activation='relu'),\n",
    "    tf.keras.layers.Dense(units=1,activation='sigmoid')\n",
    "])\n",
    "model.compile(optimizer='adam',loss='binary_crossentropy',metrics='accuracy')\n",
    "losses = model.fit(x_train, y_train,validation_data=(x_train,y_train),batch_size=60,epochs=50)\n",
    "_, accuracy = model.evaluate(x_val,y_val)\n",
    "print('Accuracy: %.2f' %(accuracy*100))\n",
    "df=pd.read_csv('test.csv')\n",
    "z=df.drop('Id',axis=1)\n",
    "pred=model.predict(z)\n",
    "bpred=(pred>0.5).astype(int)\n",
    "data={'Id':np.arange(1,58922),\n",
    "      'VERDICT':np.ndarray.flatten(bpred)}\n",
    "mydata=pd.DataFrame(data)\n",
    "mydata.to_csv('predictions.csv', index =False)"
   ]
  }
 ],
 "metadata": {
  "kernelspec": {
   "display_name": "tasksummer",
   "language": "python",
   "name": "python3"
  },
  "language_info": {
   "codemirror_mode": {
    "name": "ipython",
    "version": 3
   },
   "file_extension": ".py",
   "mimetype": "text/x-python",
   "name": "python",
   "nbconvert_exporter": "python",
   "pygments_lexer": "ipython3",
   "version": "3.10.10"
  },
  "orig_nbformat": 4
 },
 "nbformat": 4,
 "nbformat_minor": 2
}
